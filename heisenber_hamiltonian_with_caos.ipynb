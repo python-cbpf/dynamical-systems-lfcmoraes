{
 "cells": [
  {
   "cell_type": "markdown",
   "metadata": {},
   "source": [
    "# Heisenberg Hamiltonian \n",
    "\\begin{equation}\n",
    "H = J\\sum_{i=1}^{N} \\left[2(\\hat{S}^{+}_i \\hat{S}^{-}_{i+1}+\\hat{S}^{-}_i \\hat{S}^{+}_{i+1}) + \\hat{S}^{z}_i \\hat{S}^{z}_{i+1} + h_i \\hat{S}^{z}_i\\right]\n",
    "\\end{equation}"
   ]
  },
  {
   "cell_type": "code",
   "execution_count": 1,
   "metadata": {},
   "outputs": [],
   "source": [
    "import numpy as np\n",
    "import matplotlib.pyplot as plt"
   ]
  },
  {
   "cell_type": "code",
   "execution_count": 2,
   "metadata": {},
   "outputs": [],
   "source": [
    "def check_nth_bit(num, n):\n",
    "    return (num>>n)&1\n",
    "\n",
    "# flip the bit of the integer 'int' at a position 'p'  (staring at 0)\n",
    "def bitflip(int,p):\n",
    "    mask = 1 << p\n",
    "    return (int^ mask)\n",
    "\n",
    "# count the numbers of 1 on a binarie representetion of an interger n\n",
    "def CountBits(n):\n",
    "    n = (n & 0x5555555555555555) + ((n & 0xAAAAAAAAAAAAAAAA) >> 1)\n",
    "    n = (n & 0x3333333333333333) + ((n & 0xCCCCCCCCCCCCCCCC) >> 2)\n",
    "    n = (n & 0x0F0F0F0F0F0F0F0F) + ((n & 0xF0F0F0F0F0F0F0F0) >> 4)\n",
    "    n = (n & 0x00FF00FF00FF00FF) + ((n & 0xFF00FF00FF00FF00) >> 8)\n",
    "    n = (n & 0x0000FFFF0000FFFF) + ((n & 0xFFFF0000FFFF0000) >> 16)\n",
    "    n = (n & 0x00000000FFFFFFFF) + ((n & 0xFFFFFFFF00000000) >> 32) \n",
    "    return n\n",
    "\n",
    "# defining n!\n",
    "#@jit\n",
    "def factorial(n):\n",
    "    if n == 0:\n",
    "        return 1\n",
    "    else:\n",
    "        return n * factorial(n-1)\n",
    "\n",
    "# finding the states that have the maginetization \"z\"\n",
    "#@jit\n",
    "def statep(y,z):\n",
    "    a = 0\n",
    "    for x in range(0,2**l):\n",
    "        if (2* CountBits(x)-l) == z:\n",
    "            y[a] = x\n",
    "            a += 1\n",
    "    return (y)\n",
    "\n",
    "# numbers of states with magnatization x\n",
    "def num_mag(x):\n",
    "    y = p = int(factorial(l)//((factorial((x+l)/2))*(factorial(l -((x+l)/2)))))\n",
    "    return y\n",
    "            \n",
    "# find the position in the list of states \"s\" that are iqual to \"b\"\n",
    "#@jit\n",
    "def find_state(s,b):\n",
    "    for z in range(0,p+1):\n",
    "        if s[z] == b:\n",
    "            return(z)"
   ]
  },
  {
   "cell_type": "code",
   "execution_count": 3,
   "metadata": {},
   "outputs": [],
   "source": [
    "# number of spins\n",
    "l = 16\n",
    "#dimension constant\n",
    "j = -1\n",
    "\n",
    "#anisotropy constant\n",
    "delt = 1\n",
    "\n",
    "#external MF \n",
    "h = 0\n",
    "sigma= 10"
   ]
  },
  {
   "cell_type": "code",
   "execution_count": 4,
   "metadata": {},
   "outputs": [],
   "source": [
    "mag = 0\n",
    "p = num_mag(mag)\n",
    "state = np.array(range(p))\n",
    "s = statep(state,mag)\n",
    "        \n",
    "Hxxz_p = np.zeros((p,p))\n",
    "for x in range(0,p):\n",
    "    for y in range(0,l):\n",
    "        if check_nth_bit(s[x],y) == 0:\n",
    "            Hxxz_p[x,x] += -(j*np.random.normal(0,sigma))/2\n",
    "        else:\n",
    "            Hxxz_p[x,x] += (j*np.random.normal(0,sigma))/2\n",
    "        k = (y+1)%l\n",
    "                #if y != l-1:\n",
    "        if check_nth_bit(s[x],y) == check_nth_bit(s[x],k):\n",
    "            Hxxz_p[x,x] += -(j*delt)/4\n",
    "        else:\n",
    "            Hxxz_p[x,x] += (j*delt)/4\n",
    "            b = bitflip(s[x],y)\n",
    "            c = bitflip(b,k)\n",
    "            D = np.where(s == c)\n",
    "            Hxxz_p[x,D] = -j/2"
   ]
  },
  {
   "cell_type": "code",
   "execution_count": 5,
   "metadata": {},
   "outputs": [
    {
     "data": {
      "text/plain": [
       "array([[ 11.46576893,   0.5       ,   0.        , ...,   0.        ,\n",
       "          0.        ,   0.        ],\n",
       "       [  0.5       , -23.17657398,   0.5       , ...,   0.        ,\n",
       "          0.        ,   0.        ],\n",
       "       [  0.        ,   0.5       , -13.70611544, ...,   0.        ,\n",
       "          0.        ,   0.        ],\n",
       "       ...,\n",
       "       [  0.        ,   0.        ,   0.        , ...,   6.06353103,\n",
       "          0.5       ,   0.        ],\n",
       "       [  0.        ,   0.        ,   0.        , ...,   0.5       ,\n",
       "         -9.8144413 ,   0.5       ],\n",
       "       [  0.        ,   0.        ,   0.        , ...,   0.        ,\n",
       "          0.5       , -13.24239251]])"
      ]
     },
     "execution_count": 5,
     "metadata": {},
     "output_type": "execute_result"
    }
   ],
   "source": [
    "Hxxz_p"
   ]
  },
  {
   "cell_type": "code",
   "execution_count": 6,
   "metadata": {},
   "outputs": [
    {
     "data": {
      "text/plain": [
       "array([-80.77128049, -77.21513048, -74.2146371 , ...,  72.85473081,\n",
       "        73.01936488,  73.3932206 ])"
      ]
     },
     "execution_count": 6,
     "metadata": {},
     "output_type": "execute_result"
    }
   ],
   "source": [
    "eig = (np.sort(np.linalg.eigvals(Hxxz_p)))\n",
    "eig"
   ]
  },
  {
   "cell_type": "code",
   "execution_count": 7,
   "metadata": {},
   "outputs": [
    {
     "data": {
      "image/png": "[encoded data removed]",
      "text/plain": [
       "<Figure size 432x288 with 1 Axes>"
      ]
     },
     "metadata": {
      "needs_background": "light"
     },
     "output_type": "display_data"
    }
   ],
   "source": [
    "plt.hist(eig,bins=100, density=1)\n",
    "plt.show()"
   ]
  },
  {
   "cell_type": "code",
   "execution_count": 8,
   "metadata": {},
   "outputs": [
    {
     "data": {
      "text/plain": [
       "(12868,)"
      ]
     },
     "execution_count": 8,
     "metadata": {},
     "output_type": "execute_result"
    }
   ],
   "source": [
    "sn = np.array([(eig[i+1] - eig[i]) for i in range(len(eig)-1)])\n",
    "rn = np.array([(np.minimum(sn[i], sn[i-1])/(np.maximum(sn[i], sn[i-1]))) for i in range(1,len(eig)-1)])\n",
    "rn.shape\n"
   ]
  },
  {
   "cell_type": "code",
   "execution_count": 251,
   "metadata": {},
   "outputs": [
    {
     "data": {
      "image/png": "[encoded data removed]",
      "text/plain": [
       "<Figure size 432x288 with 1 Axes>"
      ]
     },
     "metadata": {
      "needs_background": "light"
     },
     "output_type": "display_data"
    }
   ],
   "source": [
    "sn.shape\n",
    "x = np.arange(0,1.05,.1)\n",
    "#y = 2/(1+x)**2\n",
    "y_2 = 27/4*(x + x*x)/(1+x+ x*x)**(1+3/2)\n",
    "plt.hist(rn,density=1, bins=50)\n",
    "#plt.plot(x,y,'-')\n",
    "plt.plot(x,y_2, '-', color='red')\n",
    "plt.title('Small external MF')\n",
    "plt.show()"
   ]
  },
  {
   "cell_type": "code",
   "execution_count": 249,
   "metadata": {},
   "outputs": [
    {
     "data": {
      "image/png": "[encoded data removed]",
      "text/plain": [
       "<Figure size 432x288 with 1 Axes>"
      ]
     },
     "metadata": {
      "needs_background": "light"
     },
     "output_type": "display_data"
    }
   ],
   "source": [
    "sn.shape\n",
    "plt.hist(sn,density=1)\n",
    "plt.show()"
   ]
  },
  {
   "cell_type": "code",
   "execution_count": null,
   "metadata": {},
   "outputs": [],
   "source": []
  },
  {
   "cell_type": "code",
   "execution_count": null,
   "metadata": {},
   "outputs": [],
   "source": []
  }
 ],
 "metadata": {
  "kernelspec": {
   "display_name": "Python 3",
   "language": "python",
   "name": "python3"
  },
  "language_info": {
   "codemirror_mode": {
    "name": "ipython",
    "version": 3
   },
   "file_extension": ".py",
   "mimetype": "text/x-python",
   "name": "python",
   "nbconvert_exporter": "python",
   "pygments_lexer": "ipython3",
   "version": "3.7.4"
  }
 },
 "nbformat": 4,
 "nbformat_minor": 2
}

{
 "cells": [
  {
   "cell_type": "markdown",
   "metadata": {},
   "source": [
    "# Step-to -step time evolution:\n",
    "## Floquet operator:\n",
    "\n",
    "\\begin{equation}\n",
    "\\hat{F} = \\int e^{-i\\hat{H(t)}}dt\n",
    "\\end{equation}\n",
    "\n",
    "\n",
    "\\begin{equation}\n",
    "\\hat{F} = \\exp\\left({\\frac{-i\\tau_z \\hat{J}^2}{2j+1}-i\\alpha_z \\hat{J}_z}\\right) \\times \\exp\\left({-i\\alpha_y \\hat{J}_y}\\right)\n",
    "\\end{equation}\n",
    "\n",
    "Where $\\tau_z$, $\\alpha_z$ and $\\alpha_y$ are paramiters $j$ is the absolute value of angular momentum $\\hat{J}_y $"
   ]
  },
  {
   "cell_type": "markdown",
   "metadata": {},
   "source": [
    "# "
   ]
  },
  {
   "cell_type": "code",
   "execution_count": 211,
   "metadata": {},
   "outputs": [],
   "source": [
    "import numpy as np\n",
    "from scipy.linalg import expm\n",
    "from cmath import polar, phase\n",
    "import matplotlib.pyplot as plt"
   ]
  },
  {
   "cell_type": "code",
   "execution_count": 157,
   "metadata": {},
   "outputs": [],
   "source": [
    "# caothic constant\n",
    "tau_z = .1\n",
    "\n",
    "#parameters\n",
    "alpha_y = 1\n",
    "alpha_z = 1\n",
    "\n",
    "#dimansions\n",
    "j = 1\n",
    "N = 2*j +1\n",
    "m_list = np.array([i for i in range(-j,j+1)])"
   ]
  },
  {
   "cell_type": "code",
   "execution_count": 158,
   "metadata": {},
   "outputs": [],
   "source": [
    "F_z = np.zeros([N,N],dtype=complex)"
   ]
  },
  {
   "cell_type": "code",
   "execution_count": 190,
   "metadata": {},
   "outputs": [],
   "source": [
    "for i in range(N):\n",
    "    F_z[i,i] = np.exp((-1j)*(tau_z*j*(j+1)/(N) + alpha_z*m_list[i]))\n",
    "   "
   ]
  },
  {
   "cell_type": "code",
   "execution_count": 191,
   "metadata": {},
   "outputs": [],
   "source": [
    "J_p = np.zeros([N,N],dtype=complex)\n",
    "J_m = np.zeros([N,N],dtype=complex)\n",
    "J_y = np.zeros([N,N],dtype=complex)\n",
    "\n",
    "for n in m_list:\n",
    "    for m in m_list:\n",
    "        if (n == m+1):\n",
    "            J_p [np.where(m_list == n),np.where(m_list == m)] = np.sqrt(j*(j+1) - m*(m+1))\n",
    "        if (n == m-1):\n",
    "            J_m [np.where(m_list == n ),np.where(m_list==m)] = np.sqrt(j*(j+1) - m*(m-1))\n",
    "            \n",
    "J_y = (J_p - J_m)*(complex(0,-1))"
   ]
  },
  {
   "cell_type": "code",
   "execution_count": 192,
   "metadata": {},
   "outputs": [
    {
     "data": {
      "text/plain": [
       "array([[ 1.00000000e+00+0.00000000e+00j, -4.54626158e-17-2.08938234e-17j,\n",
       "         8.87301952e-18-7.78449443e-17j],\n",
       "       [-8.92399740e-17+1.80142610e-16j,  1.00000000e+00-2.77555756e-17j,\n",
       "         4.61464986e-17-6.14469736e-17j],\n",
       "       [ 4.85903355e-17+1.68230921e-17j, -1.95112981e-17+2.05308088e-17j,\n",
       "         1.00000000e+00+5.55111512e-17j]])"
      ]
     },
     "execution_count": 192,
     "metadata": {},
     "output_type": "execute_result"
    }
   ],
   "source": [
    "F_y = expm(alpha_y*(-1j)*J_y)\n",
    "F = np.matmul(F_z,F_y)\n",
    "F_ = np.linalg.inv(F)\n",
    "test = np.matmul(F,F_)\n",
    "test"
   ]
  },
  {
   "cell_type": "code",
   "execution_count": 193,
   "metadata": {},
   "outputs": [
    {
     "data": {
      "text/plain": [
       "[(1.9999999999999976, 0.0),\n",
       " (2.3877453108728004e-16, 0.0),\n",
       " (1.9999999999999998, 3.141592653589793)]"
      ]
     },
     "execution_count": 193,
     "metadata": {},
     "output_type": "execute_result"
    }
   ],
   "source": [
    "F\n",
    "a = np.linalg.eigvals(J_y)\n",
    "b = [polar(a[i]) for i in range(len(eigenvals))]\n",
    "b"
   ]
  },
  {
   "cell_type": "code",
   "execution_count": 197,
   "metadata": {},
   "outputs": [],
   "source": [
    "eigenvals = np.linalg.eigvals(F)\n",
    "phi_list = [phase(eigenvals[i]) for i in range(len(eigenvals))]\n"
   ]
  },
  {
   "cell_type": "code",
   "execution_count": 198,
   "metadata": {},
   "outputs": [
    {
     "data": {
      "text/plain": [
       "[-0.06666666666666642, 2.0869068224662626, -2.2202401557995954]"
      ]
     },
     "execution_count": 198,
     "metadata": {},
     "output_type": "execute_result"
    }
   ],
   "source": [
    "phi_list"
   ]
  },
  {
   "cell_type": "code",
   "execution_count": 209,
   "metadata": {},
   "outputs": [],
   "source": [
    "def step_evolution_matrix_eigenvals(j_0, tau_z_0,alpha_y_0=1,alpha_z_0=1):\n",
    "    import numpy as np\n",
    "    from scipy.linalg import expm\n",
    "    from cmath import polar, phase\n",
    "    import matplotlib.pyplot as plt\n",
    "    \n",
    "    # caothic constant\n",
    "    tau_z = tau_z_0\n",
    "\n",
    "    #parameters\n",
    "    alpha_y = alpha_y_0\n",
    "    alpha_z = alpha_z_0\n",
    "\n",
    "    #dimansions\n",
    "    j = j_0\n",
    "    N = 2*j +1\n",
    "    m_list = np.array([i for i in range(-j,j+1)])\n",
    "    \n",
    "    #construct F_z\n",
    "    \n",
    "    F_z = np.zeros([N,N],dtype=complex)\n",
    "    for i in range(N):\n",
    "        F_z[i,i] = np.exp((-1j)*(tau_z*j*(j+1)/(N) + alpha_z*m_list[i]))\n",
    "   \n",
    "    #construct F_y\n",
    "    J_p = np.zeros([N,N],dtype=complex)\n",
    "    J_m = np.zeros([N,N],dtype=complex)\n",
    "    J_y = np.zeros([N,N],dtype=complex)\n",
    "\n",
    "    for n in m_list:\n",
    "        for m in m_list:\n",
    "            if (n == m+1):\n",
    "                J_p [np.where(m_list == n),np.where(m_list == m)] = np.sqrt(j*(j+1) - m*(m+1))\n",
    "            if (n == m-1):\n",
    "                J_m [np.where(m_list == n ),np.where(m_list==m)] = np.sqrt(j*(j+1) - m*(m-1))\n",
    "            \n",
    "    J_y = (J_p - J_m)*(-1j)\n",
    "    \n",
    "    F_y = expm(alpha_y*(-1j)*J_y)\n",
    "    \n",
    "    #construct F\n",
    "    F = np.matmul(F_z,F_y)\n",
    "    \n",
    "    #find its eigenvauls\n",
    "    eigenvals = np.linalg.eigvals(F)\n",
    "    phi_list = [phase(eigenvals[i]) for i in range(len(eigenvals))]\n",
    "    \n",
    "    return (phi_list)\n",
    "    \n",
    "    "
   ]
  },
  {
   "cell_type": "code",
   "execution_count": 210,
   "metadata": {},
   "outputs": [],
   "source": [
    "a = step_evolution_matrix_eigenvals(1000,.1)"
   ]
  },
  {
   "cell_type": "code",
   "execution_count": 212,
   "metadata": {},
   "outputs": [
    {
     "data": {
      "text/plain": [
       "(array([201., 199., 202., 198., 200., 200., 201., 197., 202., 201.]),\n",
       " array([-3.14046992e+00, -2.51290718e+00, -1.88534444e+00, -1.25778170e+00,\n",
       "        -6.30218961e-01, -2.65622264e-03,  6.24906516e-01,  1.25246925e+00,\n",
       "         1.88003199e+00,  2.50759473e+00,  3.13515747e+00]),\n",
       " <a list of 10 Patch objects>)"
      ]
     },
     "execution_count": 212,
     "metadata": {},
     "output_type": "execute_result"
    },
    {
     "data": {
      "image/png": "[encoded data removed]",
      "text/plain": [
       "<Figure size 432x288 with 1 Axes>"
      ]
     },
     "metadata": {
      "needs_background": "light"
     },
     "output_type": "display_data"
    }
   ],
   "source": [
    "bins = [x for i in range(-)]\n",
    "plt.hist(a)"
   ]
  },
  {
   "cell_type": "code",
   "execution_count": null,
   "metadata": {},
   "outputs": [],
   "source": []
  }
 ],
 "metadata": {
  "kernelspec": {
   "display_name": "Python 3",
   "language": "python",
   "name": "python3"
  },
  "language_info": {
   "codemirror_mode": {
    "name": "ipython",
    "version": 3
   },
   "file_extension": ".py",
   "mimetype": "text/x-python",
   "name": "python",
   "nbconvert_exporter": "python",
   "pygments_lexer": "ipython3",
   "version": "3.7.4"
  }
 },
 "nbformat": 4,
 "nbformat_minor": 2
}
